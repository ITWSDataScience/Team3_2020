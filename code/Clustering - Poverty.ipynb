{
 "cells": [
  {
   "cell_type": "code",
   "execution_count": 23,
   "metadata": {},
   "outputs": [],
   "source": [
    "#This will be the data analytics code"
   ]
  },
  {
   "cell_type": "code",
   "execution_count": 24,
   "metadata": {},
   "outputs": [
    {
     "name": "stdout",
     "output_type": "stream",
     "text": [
      "Requirement already satisfied: numpy in /usr/local/Cellar/jupyterlab/2.2.6/libexec/lib/python3.8/site-packages (1.19.2)\n",
      "\u001b[33mWARNING: You are using pip version 20.2.2; however, version 20.3.1 is available.\n",
      "You should consider upgrading via the '/usr/local/Cellar/jupyterlab/2.2.6/libexec/bin/python3.8 -m pip install --upgrade pip' command.\u001b[0m\n",
      "Requirement already satisfied: pandas in /usr/local/Cellar/jupyterlab/2.2.6/libexec/lib/python3.8/site-packages (1.1.2)\n",
      "Requirement already satisfied: python-dateutil>=2.7.3 in /usr/local/Cellar/jupyterlab/2.2.6/libexec/lib/python3.8/site-packages (from pandas) (2.8.1)\n",
      "Requirement already satisfied: numpy>=1.15.4 in /usr/local/Cellar/jupyterlab/2.2.6/libexec/lib/python3.8/site-packages (from pandas) (1.19.2)\n",
      "Requirement already satisfied: pytz>=2017.2 in /usr/local/Cellar/jupyterlab/2.2.6/libexec/lib/python3.8/site-packages (from pandas) (2020.1)\n",
      "Requirement already satisfied: six>=1.5 in /usr/local/Cellar/jupyterlab/2.2.6/libexec/lib/python3.8/site-packages (from python-dateutil>=2.7.3->pandas) (1.15.0)\n",
      "\u001b[33mWARNING: You are using pip version 20.2.2; however, version 20.3.1 is available.\n",
      "You should consider upgrading via the '/usr/local/Cellar/jupyterlab/2.2.6/libexec/bin/python3.8 -m pip install --upgrade pip' command.\u001b[0m\n",
      "Requirement already satisfied: scikit-learn in /usr/local/Cellar/jupyterlab/2.2.6/libexec/lib/python3.8/site-packages (0.23.2)\n",
      "Requirement already satisfied: numpy>=1.13.3 in /usr/local/Cellar/jupyterlab/2.2.6/libexec/lib/python3.8/site-packages (from scikit-learn) (1.19.2)\n",
      "Requirement already satisfied: scipy>=0.19.1 in /usr/local/Cellar/jupyterlab/2.2.6/libexec/lib/python3.8/site-packages (from scikit-learn) (1.5.4)\n",
      "Requirement already satisfied: threadpoolctl>=2.0.0 in /usr/local/Cellar/jupyterlab/2.2.6/libexec/lib/python3.8/site-packages (from scikit-learn) (2.1.0)\n",
      "Requirement already satisfied: joblib>=0.11 in /usr/local/Cellar/jupyterlab/2.2.6/libexec/lib/python3.8/site-packages (from scikit-learn) (0.17.0)\n",
      "\u001b[33mWARNING: You are using pip version 20.2.2; however, version 20.3.1 is available.\n",
      "You should consider upgrading via the '/usr/local/Cellar/jupyterlab/2.2.6/libexec/bin/python3.8 -m pip install --upgrade pip' command.\u001b[0m\n",
      "Requirement already satisfied: matplotlib in /usr/local/Cellar/jupyterlab/2.2.6/libexec/lib/python3.8/site-packages (3.3.3)\n",
      "Requirement already satisfied: kiwisolver>=1.0.1 in /usr/local/Cellar/jupyterlab/2.2.6/libexec/lib/python3.8/site-packages (from matplotlib) (1.3.1)\n",
      "Requirement already satisfied: pillow>=6.2.0 in /usr/local/Cellar/jupyterlab/2.2.6/libexec/lib/python3.8/site-packages (from matplotlib) (8.0.1)\n",
      "Requirement already satisfied: numpy>=1.15 in /usr/local/Cellar/jupyterlab/2.2.6/libexec/lib/python3.8/site-packages (from matplotlib) (1.19.2)\n",
      "Requirement already satisfied: pyparsing!=2.0.4,!=2.1.2,!=2.1.6,>=2.0.3 in /usr/local/Cellar/jupyterlab/2.2.6/libexec/lib/python3.8/site-packages (from matplotlib) (2.4.7)\n",
      "Requirement already satisfied: python-dateutil>=2.1 in /usr/local/Cellar/jupyterlab/2.2.6/libexec/lib/python3.8/site-packages (from matplotlib) (2.8.1)\n",
      "Requirement already satisfied: cycler>=0.10 in /usr/local/Cellar/jupyterlab/2.2.6/libexec/lib/python3.8/site-packages (from matplotlib) (0.10.0)\n",
      "Requirement already satisfied: six>=1.5 in /usr/local/Cellar/jupyterlab/2.2.6/libexec/lib/python3.8/site-packages (from python-dateutil>=2.1->matplotlib) (1.15.0)\n",
      "\u001b[33mWARNING: You are using pip version 20.2.2; however, version 20.3.1 is available.\n",
      "You should consider upgrading via the '/usr/local/Cellar/jupyterlab/2.2.6/libexec/bin/python3.8 -m pip install --upgrade pip' command.\u001b[0m\n",
      "Requirement already satisfied: seaborn in /usr/local/Cellar/jupyterlab/2.2.6/libexec/lib/python3.8/site-packages (0.11.0)\n",
      "Requirement already satisfied: matplotlib>=2.2 in /usr/local/Cellar/jupyterlab/2.2.6/libexec/lib/python3.8/site-packages (from seaborn) (3.3.3)\n",
      "Requirement already satisfied: scipy>=1.0 in /usr/local/Cellar/jupyterlab/2.2.6/libexec/lib/python3.8/site-packages (from seaborn) (1.5.4)\n",
      "Requirement already satisfied: numpy>=1.15 in /usr/local/Cellar/jupyterlab/2.2.6/libexec/lib/python3.8/site-packages (from seaborn) (1.19.2)\n",
      "Requirement already satisfied: pandas>=0.23 in /usr/local/Cellar/jupyterlab/2.2.6/libexec/lib/python3.8/site-packages (from seaborn) (1.1.2)\n",
      "Requirement already satisfied: pillow>=6.2.0 in /usr/local/Cellar/jupyterlab/2.2.6/libexec/lib/python3.8/site-packages (from matplotlib>=2.2->seaborn) (8.0.1)\n",
      "Requirement already satisfied: pyparsing!=2.0.4,!=2.1.2,!=2.1.6,>=2.0.3 in /usr/local/Cellar/jupyterlab/2.2.6/libexec/lib/python3.8/site-packages (from matplotlib>=2.2->seaborn) (2.4.7)\n",
      "Requirement already satisfied: kiwisolver>=1.0.1 in /usr/local/Cellar/jupyterlab/2.2.6/libexec/lib/python3.8/site-packages (from matplotlib>=2.2->seaborn) (1.3.1)\n",
      "Requirement already satisfied: cycler>=0.10 in /usr/local/Cellar/jupyterlab/2.2.6/libexec/lib/python3.8/site-packages (from matplotlib>=2.2->seaborn) (0.10.0)\n",
      "Requirement already satisfied: python-dateutil>=2.1 in /usr/local/Cellar/jupyterlab/2.2.6/libexec/lib/python3.8/site-packages (from matplotlib>=2.2->seaborn) (2.8.1)\n",
      "Requirement already satisfied: pytz>=2017.2 in /usr/local/Cellar/jupyterlab/2.2.6/libexec/lib/python3.8/site-packages (from pandas>=0.23->seaborn) (2020.1)\n",
      "Requirement already satisfied: six in /usr/local/Cellar/jupyterlab/2.2.6/libexec/lib/python3.8/site-packages (from cycler>=0.10->matplotlib>=2.2->seaborn) (1.15.0)\n",
      "\u001b[33mWARNING: You are using pip version 20.2.2; however, version 20.3.1 is available.\n",
      "You should consider upgrading via the '/usr/local/Cellar/jupyterlab/2.2.6/libexec/bin/python3.8 -m pip install --upgrade pip' command.\u001b[0m\n"
     ]
    }
   ],
   "source": [
    "#Run if not downloaded already\n",
    "import sys\n",
    "!{sys.executable} -m pip install numpy\n",
    "!{sys.executable} -m pip install pandas\n",
    "!{sys.executable} -m pip install scikit-learn\n",
    "!{sys.executable} -m pip install matplotlib\n",
    "!{sys.executable} -m pip install seaborn"
   ]
  },
  {
   "cell_type": "code",
   "execution_count": 25,
   "metadata": {
    "scrolled": true
   },
   "outputs": [
    {
     "data": {
      "text/html": [
       "<div>\n",
       "<style scoped>\n",
       "    .dataframe tbody tr th:only-of-type {\n",
       "        vertical-align: middle;\n",
       "    }\n",
       "\n",
       "    .dataframe tbody tr th {\n",
       "        vertical-align: top;\n",
       "    }\n",
       "\n",
       "    .dataframe thead th {\n",
       "        text-align: right;\n",
       "    }\n",
       "</style>\n",
       "<table border=\"1\" class=\"dataframe\">\n",
       "  <thead>\n",
       "    <tr style=\"text-align: right;\">\n",
       "      <th></th>\n",
       "      <th>Country.Name</th>\n",
       "      <th>Region</th>\n",
       "      <th>IncomeGroup</th>\n",
       "      <th>Year</th>\n",
       "      <th>GDP</th>\n",
       "    </tr>\n",
       "  </thead>\n",
       "  <tbody>\n",
       "    <tr>\n",
       "      <th>0</th>\n",
       "      <td>Afghanistan</td>\n",
       "      <td>South Asia</td>\n",
       "      <td>Low income</td>\n",
       "      <td>1960</td>\n",
       "      <td>59.773194</td>\n",
       "    </tr>\n",
       "    <tr>\n",
       "      <th>1</th>\n",
       "      <td>Afghanistan</td>\n",
       "      <td>South Asia</td>\n",
       "      <td>Low income</td>\n",
       "      <td>1961</td>\n",
       "      <td>59.860874</td>\n",
       "    </tr>\n",
       "    <tr>\n",
       "      <th>2</th>\n",
       "      <td>Afghanistan</td>\n",
       "      <td>South Asia</td>\n",
       "      <td>Low income</td>\n",
       "      <td>1962</td>\n",
       "      <td>58.458015</td>\n",
       "    </tr>\n",
       "    <tr>\n",
       "      <th>3</th>\n",
       "      <td>Afghanistan</td>\n",
       "      <td>South Asia</td>\n",
       "      <td>Low income</td>\n",
       "      <td>1963</td>\n",
       "      <td>78.706388</td>\n",
       "    </tr>\n",
       "    <tr>\n",
       "      <th>4</th>\n",
       "      <td>Afghanistan</td>\n",
       "      <td>South Asia</td>\n",
       "      <td>Low income</td>\n",
       "      <td>1964</td>\n",
       "      <td>82.095231</td>\n",
       "    </tr>\n",
       "  </tbody>\n",
       "</table>\n",
       "</div>"
      ],
      "text/plain": [
       "  Country.Name      Region IncomeGroup  Year        GDP\n",
       "0  Afghanistan  South Asia  Low income  1960  59.773194\n",
       "1  Afghanistan  South Asia  Low income  1961  59.860874\n",
       "2  Afghanistan  South Asia  Low income  1962  58.458015\n",
       "3  Afghanistan  South Asia  Low income  1963  78.706388\n",
       "4  Afghanistan  South Asia  Low income  1964  82.095231"
      ]
     },
     "execution_count": 25,
     "metadata": {},
     "output_type": "execute_result"
    }
   ],
   "source": [
    "import pandas as pd\n",
    "import numpy as np\n",
    "import matplotlib.pyplot as plt\n",
    "from functools import partial, reduce \n",
    "from sklearn.model_selection import train_test_split\n",
    "# For either K Nearest Neighbor or K Mean Clustering, I don't know which to use yet\n",
    "from sklearn.neighbors import KNeighborsClassifier\n",
    "from sklearn.cluster import KMeans\n",
    "\n",
    "#Load all the data into seperate data frames\n",
    "\n",
    "# GDP\n",
    "gdp_df = pd.read_csv(\"../clean_gdp_capita.csv\", encoding=\"ISO-8859-1\", index_col=0)\n",
    "a = gdp_df.columns[3:]\n",
    "gdp_df = pd.melt(gdp_df, id_vars=['Country.Name', 'Region', 'IncomeGroup'], value_vars=a,\n",
    "        var_name='Year', value_name='GDP').sort_values(['Country.Name','Year']).reset_index()\n",
    "gdp_df.drop('index', inplace=True, axis=1)\n",
    "gdp_df.head()"
   ]
  },
  {
   "cell_type": "code",
   "execution_count": 26,
   "metadata": {},
   "outputs": [
    {
     "data": {
      "text/html": [
       "<div>\n",
       "<style scoped>\n",
       "    .dataframe tbody tr th:only-of-type {\n",
       "        vertical-align: middle;\n",
       "    }\n",
       "\n",
       "    .dataframe tbody tr th {\n",
       "        vertical-align: top;\n",
       "    }\n",
       "\n",
       "    .dataframe thead th {\n",
       "        text-align: right;\n",
       "    }\n",
       "</style>\n",
       "<table border=\"1\" class=\"dataframe\">\n",
       "  <thead>\n",
       "    <tr style=\"text-align: right;\">\n",
       "      <th></th>\n",
       "      <th>Country.Name</th>\n",
       "      <th>Region</th>\n",
       "      <th>IncomeGroup</th>\n",
       "      <th>Year</th>\n",
       "      <th>Gini Index</th>\n",
       "    </tr>\n",
       "  </thead>\n",
       "  <tbody>\n",
       "    <tr>\n",
       "      <th>0</th>\n",
       "      <td>Afghanistan</td>\n",
       "      <td>South Asia</td>\n",
       "      <td>Low income</td>\n",
       "      <td>1960</td>\n",
       "      <td>NaN</td>\n",
       "    </tr>\n",
       "    <tr>\n",
       "      <th>1</th>\n",
       "      <td>Afghanistan</td>\n",
       "      <td>South Asia</td>\n",
       "      <td>Low income</td>\n",
       "      <td>1961</td>\n",
       "      <td>NaN</td>\n",
       "    </tr>\n",
       "    <tr>\n",
       "      <th>2</th>\n",
       "      <td>Afghanistan</td>\n",
       "      <td>South Asia</td>\n",
       "      <td>Low income</td>\n",
       "      <td>1962</td>\n",
       "      <td>NaN</td>\n",
       "    </tr>\n",
       "    <tr>\n",
       "      <th>3</th>\n",
       "      <td>Afghanistan</td>\n",
       "      <td>South Asia</td>\n",
       "      <td>Low income</td>\n",
       "      <td>1963</td>\n",
       "      <td>NaN</td>\n",
       "    </tr>\n",
       "    <tr>\n",
       "      <th>4</th>\n",
       "      <td>Afghanistan</td>\n",
       "      <td>South Asia</td>\n",
       "      <td>Low income</td>\n",
       "      <td>1964</td>\n",
       "      <td>NaN</td>\n",
       "    </tr>\n",
       "  </tbody>\n",
       "</table>\n",
       "</div>"
      ],
      "text/plain": [
       "  Country.Name      Region IncomeGroup  Year  Gini Index\n",
       "0  Afghanistan  South Asia  Low income  1960         NaN\n",
       "1  Afghanistan  South Asia  Low income  1961         NaN\n",
       "2  Afghanistan  South Asia  Low income  1962         NaN\n",
       "3  Afghanistan  South Asia  Low income  1963         NaN\n",
       "4  Afghanistan  South Asia  Low income  1964         NaN"
      ]
     },
     "execution_count": 26,
     "metadata": {},
     "output_type": "execute_result"
    }
   ],
   "source": [
    "# GINI_Index\n",
    "gini_df = pd.read_csv(\"../clean_gini_index.csv\", encoding=\"ISO-8859-1\", index_col=0)\n",
    "a = gini_df.columns[3:]\n",
    "gini_df = pd.melt(gini_df, id_vars=['Country.Name', 'Region', 'IncomeGroup'], value_vars=a,\n",
    "        var_name='Year', value_name='Gini Index').sort_values(['Country.Name','Year']).reset_index()\n",
    "gini_df.drop('index', inplace=True, axis=1)\n",
    "gini_df.head()"
   ]
  },
  {
   "cell_type": "code",
   "execution_count": 27,
   "metadata": {},
   "outputs": [
    {
     "data": {
      "text/html": [
       "<div>\n",
       "<style scoped>\n",
       "    .dataframe tbody tr th:only-of-type {\n",
       "        vertical-align: middle;\n",
       "    }\n",
       "\n",
       "    .dataframe tbody tr th {\n",
       "        vertical-align: top;\n",
       "    }\n",
       "\n",
       "    .dataframe thead th {\n",
       "        text-align: right;\n",
       "    }\n",
       "</style>\n",
       "<table border=\"1\" class=\"dataframe\">\n",
       "  <thead>\n",
       "    <tr style=\"text-align: right;\">\n",
       "      <th></th>\n",
       "      <th>Country.Name</th>\n",
       "      <th>Region</th>\n",
       "      <th>IncomeGroup</th>\n",
       "      <th>Year</th>\n",
       "      <th>Literacy Rate</th>\n",
       "    </tr>\n",
       "  </thead>\n",
       "  <tbody>\n",
       "    <tr>\n",
       "      <th>0</th>\n",
       "      <td>Afghanistan</td>\n",
       "      <td>South Asia</td>\n",
       "      <td>Low income</td>\n",
       "      <td>1960</td>\n",
       "      <td>18.157681</td>\n",
       "    </tr>\n",
       "    <tr>\n",
       "      <th>1</th>\n",
       "      <td>Afghanistan</td>\n",
       "      <td>South Asia</td>\n",
       "      <td>Low income</td>\n",
       "      <td>1961</td>\n",
       "      <td>18.157681</td>\n",
       "    </tr>\n",
       "    <tr>\n",
       "      <th>2</th>\n",
       "      <td>Afghanistan</td>\n",
       "      <td>South Asia</td>\n",
       "      <td>Low income</td>\n",
       "      <td>1962</td>\n",
       "      <td>18.157681</td>\n",
       "    </tr>\n",
       "    <tr>\n",
       "      <th>3</th>\n",
       "      <td>Afghanistan</td>\n",
       "      <td>South Asia</td>\n",
       "      <td>Low income</td>\n",
       "      <td>1963</td>\n",
       "      <td>18.157681</td>\n",
       "    </tr>\n",
       "    <tr>\n",
       "      <th>4</th>\n",
       "      <td>Afghanistan</td>\n",
       "      <td>South Asia</td>\n",
       "      <td>Low income</td>\n",
       "      <td>1964</td>\n",
       "      <td>18.157681</td>\n",
       "    </tr>\n",
       "  </tbody>\n",
       "</table>\n",
       "</div>"
      ],
      "text/plain": [
       "  Country.Name      Region IncomeGroup  Year  Literacy Rate\n",
       "0  Afghanistan  South Asia  Low income  1960      18.157681\n",
       "1  Afghanistan  South Asia  Low income  1961      18.157681\n",
       "2  Afghanistan  South Asia  Low income  1962      18.157681\n",
       "3  Afghanistan  South Asia  Low income  1963      18.157681\n",
       "4  Afghanistan  South Asia  Low income  1964      18.157681"
      ]
     },
     "execution_count": 27,
     "metadata": {},
     "output_type": "execute_result"
    }
   ],
   "source": [
    "# Literacy Rate\n",
    "literacy_df = pd.read_csv(\"../clean_literacy_rate.csv\", encoding=\"ISO-8859-1\", index_col=0)\n",
    "a = literacy_df.columns[3:]\n",
    "literacy_df = pd.melt(literacy_df, id_vars=['Country.Name', 'Region', 'IncomeGroup'], value_vars=a,\n",
    "        var_name='Year', value_name='Literacy Rate').sort_values(['Country.Name','Year']).reset_index()\n",
    "literacy_df.drop('index', inplace=True, axis=1)\n",
    "literacy_df.head()"
   ]
  },
  {
   "cell_type": "code",
   "execution_count": 28,
   "metadata": {},
   "outputs": [
    {
     "data": {
      "text/html": [
       "<div>\n",
       "<style scoped>\n",
       "    .dataframe tbody tr th:only-of-type {\n",
       "        vertical-align: middle;\n",
       "    }\n",
       "\n",
       "    .dataframe tbody tr th {\n",
       "        vertical-align: top;\n",
       "    }\n",
       "\n",
       "    .dataframe thead th {\n",
       "        text-align: right;\n",
       "    }\n",
       "</style>\n",
       "<table border=\"1\" class=\"dataframe\">\n",
       "  <thead>\n",
       "    <tr style=\"text-align: right;\">\n",
       "      <th></th>\n",
       "      <th>Country.Name</th>\n",
       "      <th>Region</th>\n",
       "      <th>IncomeGroup</th>\n",
       "      <th>Year</th>\n",
       "      <th>Secondary School Enrollment</th>\n",
       "    </tr>\n",
       "  </thead>\n",
       "  <tbody>\n",
       "    <tr>\n",
       "      <th>0</th>\n",
       "      <td>Afghanistan</td>\n",
       "      <td>South Asia</td>\n",
       "      <td>Low income</td>\n",
       "      <td>1960</td>\n",
       "      <td>8.30642</td>\n",
       "    </tr>\n",
       "    <tr>\n",
       "      <th>1</th>\n",
       "      <td>Afghanistan</td>\n",
       "      <td>South Asia</td>\n",
       "      <td>Low income</td>\n",
       "      <td>1961</td>\n",
       "      <td>8.30642</td>\n",
       "    </tr>\n",
       "    <tr>\n",
       "      <th>2</th>\n",
       "      <td>Afghanistan</td>\n",
       "      <td>South Asia</td>\n",
       "      <td>Low income</td>\n",
       "      <td>1962</td>\n",
       "      <td>8.30642</td>\n",
       "    </tr>\n",
       "    <tr>\n",
       "      <th>3</th>\n",
       "      <td>Afghanistan</td>\n",
       "      <td>South Asia</td>\n",
       "      <td>Low income</td>\n",
       "      <td>1963</td>\n",
       "      <td>8.30642</td>\n",
       "    </tr>\n",
       "    <tr>\n",
       "      <th>4</th>\n",
       "      <td>Afghanistan</td>\n",
       "      <td>South Asia</td>\n",
       "      <td>Low income</td>\n",
       "      <td>1964</td>\n",
       "      <td>8.30642</td>\n",
       "    </tr>\n",
       "  </tbody>\n",
       "</table>\n",
       "</div>"
      ],
      "text/plain": [
       "  Country.Name      Region IncomeGroup  Year  Secondary School Enrollment\n",
       "0  Afghanistan  South Asia  Low income  1960                      8.30642\n",
       "1  Afghanistan  South Asia  Low income  1961                      8.30642\n",
       "2  Afghanistan  South Asia  Low income  1962                      8.30642\n",
       "3  Afghanistan  South Asia  Low income  1963                      8.30642\n",
       "4  Afghanistan  South Asia  Low income  1964                      8.30642"
      ]
     },
     "execution_count": 28,
     "metadata": {},
     "output_type": "execute_result"
    }
   ],
   "source": [
    "# Secondary School Enrollment \n",
    "second_school_df = pd.read_csv(\"../clean_school_enrol_sec.csv\", encoding=\"ISO-8859-1\", index_col=0)\n",
    "a = second_school_df.columns[3:]\n",
    "second_school_df = pd.melt(second_school_df, id_vars=['Country.Name', 'Region', 'IncomeGroup'], value_vars=a,\n",
    "        var_name='Year', value_name='Secondary School Enrollment').sort_values(['Country.Name','Year']).reset_index()\n",
    "second_school_df.drop('index', inplace=True, axis=1)\n",
    "second_school_df.head()"
   ]
  },
  {
   "cell_type": "code",
   "execution_count": 29,
   "metadata": {},
   "outputs": [
    {
     "data": {
      "text/html": [
       "<div>\n",
       "<style scoped>\n",
       "    .dataframe tbody tr th:only-of-type {\n",
       "        vertical-align: middle;\n",
       "    }\n",
       "\n",
       "    .dataframe tbody tr th {\n",
       "        vertical-align: top;\n",
       "    }\n",
       "\n",
       "    .dataframe thead th {\n",
       "        text-align: right;\n",
       "    }\n",
       "</style>\n",
       "<table border=\"1\" class=\"dataframe\">\n",
       "  <thead>\n",
       "    <tr style=\"text-align: right;\">\n",
       "      <th></th>\n",
       "      <th>Country.Name</th>\n",
       "      <th>Region</th>\n",
       "      <th>IncomeGroup</th>\n",
       "      <th>Year</th>\n",
       "      <th>Tertinary School Enrollment</th>\n",
       "    </tr>\n",
       "  </thead>\n",
       "  <tbody>\n",
       "    <tr>\n",
       "      <th>0</th>\n",
       "      <td>Afghanistan</td>\n",
       "      <td>South Asia</td>\n",
       "      <td>Low income</td>\n",
       "      <td>1960</td>\n",
       "      <td>0.76877</td>\n",
       "    </tr>\n",
       "    <tr>\n",
       "      <th>1</th>\n",
       "      <td>Afghanistan</td>\n",
       "      <td>South Asia</td>\n",
       "      <td>Low income</td>\n",
       "      <td>1961</td>\n",
       "      <td>0.76877</td>\n",
       "    </tr>\n",
       "    <tr>\n",
       "      <th>2</th>\n",
       "      <td>Afghanistan</td>\n",
       "      <td>South Asia</td>\n",
       "      <td>Low income</td>\n",
       "      <td>1962</td>\n",
       "      <td>0.76877</td>\n",
       "    </tr>\n",
       "    <tr>\n",
       "      <th>3</th>\n",
       "      <td>Afghanistan</td>\n",
       "      <td>South Asia</td>\n",
       "      <td>Low income</td>\n",
       "      <td>1963</td>\n",
       "      <td>0.76877</td>\n",
       "    </tr>\n",
       "    <tr>\n",
       "      <th>4</th>\n",
       "      <td>Afghanistan</td>\n",
       "      <td>South Asia</td>\n",
       "      <td>Low income</td>\n",
       "      <td>1964</td>\n",
       "      <td>0.76877</td>\n",
       "    </tr>\n",
       "  </tbody>\n",
       "</table>\n",
       "</div>"
      ],
      "text/plain": [
       "  Country.Name      Region IncomeGroup  Year  Tertinary School Enrollment\n",
       "0  Afghanistan  South Asia  Low income  1960                      0.76877\n",
       "1  Afghanistan  South Asia  Low income  1961                      0.76877\n",
       "2  Afghanistan  South Asia  Low income  1962                      0.76877\n",
       "3  Afghanistan  South Asia  Low income  1963                      0.76877\n",
       "4  Afghanistan  South Asia  Low income  1964                      0.76877"
      ]
     },
     "execution_count": 29,
     "metadata": {},
     "output_type": "execute_result"
    }
   ],
   "source": [
    "# Tertiary School Enrollment \n",
    "third_school_df = pd.read_csv(\"../clean_school_enrol_tert.csv\", encoding=\"ISO-8859-1\", index_col=0)\n",
    "a = third_school_df.columns[3:]\n",
    "third_school_df = pd.melt(third_school_df, id_vars=['Country.Name', 'Region', 'IncomeGroup'], value_vars=a,\n",
    "        var_name='Year', value_name='Tertinary School Enrollment').sort_values(['Country.Name','Year']).reset_index()\n",
    "third_school_df.drop('index', inplace=True, axis=1)\n",
    "third_school_df.head()"
   ]
  },
  {
   "cell_type": "code",
   "execution_count": 30,
   "metadata": {},
   "outputs": [],
   "source": [
    "# Poverty Head\n",
    "poverty_df = pd.read_csv(\"../clean_poverty_head.csv\", encoding=\"ISO-8859-1\", index_col=0)\n",
    "a = poverty_df.columns[3:]\n",
    "poverty_df = pd.melt(poverty_df, id_vars=['Country.Name', 'Region', 'IncomeGroup'], value_vars=a,\n",
    "        var_name='Year', value_name='Poverty Rate').sort_values(['Country.Name','Year']).reset_index()\n",
    "poverty_df.drop('index', inplace=True, axis=1)"
   ]
  },
  {
   "cell_type": "code",
   "execution_count": 31,
   "metadata": {},
   "outputs": [],
   "source": [
    "# Merge dataframes\n",
    "dfs = [gdp_df, gini_df, literacy_df, second_school_df, third_school_df, poverty_df]\n",
    "final_df = reduce(lambda x,y: pd.merge(x,y, on=['Country.Name', 'Region', 'IncomeGroup', 'Year'], how='outer'), dfs)\n"
   ]
  },
  {
   "cell_type": "code",
   "execution_count": 32,
   "metadata": {},
   "outputs": [
    {
     "data": {
      "text/html": [
       "<div>\n",
       "<style scoped>\n",
       "    .dataframe tbody tr th:only-of-type {\n",
       "        vertical-align: middle;\n",
       "    }\n",
       "\n",
       "    .dataframe tbody tr th {\n",
       "        vertical-align: top;\n",
       "    }\n",
       "\n",
       "    .dataframe thead th {\n",
       "        text-align: right;\n",
       "    }\n",
       "</style>\n",
       "<table border=\"1\" class=\"dataframe\">\n",
       "  <thead>\n",
       "    <tr style=\"text-align: right;\">\n",
       "      <th></th>\n",
       "      <th>Country.Name</th>\n",
       "      <th>Region</th>\n",
       "      <th>IncomeGroup</th>\n",
       "      <th>Year</th>\n",
       "      <th>GDP</th>\n",
       "      <th>Gini Index</th>\n",
       "      <th>Literacy Rate</th>\n",
       "      <th>Secondary School Enrollment</th>\n",
       "      <th>Tertinary School Enrollment</th>\n",
       "      <th>Poverty Rate</th>\n",
       "    </tr>\n",
       "    <tr>\n",
       "      <th>Index</th>\n",
       "      <th></th>\n",
       "      <th></th>\n",
       "      <th></th>\n",
       "      <th></th>\n",
       "      <th></th>\n",
       "      <th></th>\n",
       "      <th></th>\n",
       "      <th></th>\n",
       "      <th></th>\n",
       "      <th></th>\n",
       "    </tr>\n",
       "  </thead>\n",
       "  <tbody>\n",
       "    <tr>\n",
       "      <th>61</th>\n",
       "      <td>Albania</td>\n",
       "      <td>Europe &amp; Central Asia</td>\n",
       "      <td>Upper middle income</td>\n",
       "      <td>1960</td>\n",
       "      <td>639.484736</td>\n",
       "      <td>27.000000</td>\n",
       "      <td>98.712982</td>\n",
       "      <td>84.974258</td>\n",
       "      <td>13.90814</td>\n",
       "      <td>0.900000</td>\n",
       "    </tr>\n",
       "    <tr>\n",
       "      <th>62</th>\n",
       "      <td>Albania</td>\n",
       "      <td>Europe &amp; Central Asia</td>\n",
       "      <td>Upper middle income</td>\n",
       "      <td>1961</td>\n",
       "      <td>639.484736</td>\n",
       "      <td>27.000000</td>\n",
       "      <td>98.712982</td>\n",
       "      <td>84.974258</td>\n",
       "      <td>13.90814</td>\n",
       "      <td>0.900000</td>\n",
       "    </tr>\n",
       "    <tr>\n",
       "      <th>63</th>\n",
       "      <td>Albania</td>\n",
       "      <td>Europe &amp; Central Asia</td>\n",
       "      <td>Upper middle income</td>\n",
       "      <td>1962</td>\n",
       "      <td>639.484736</td>\n",
       "      <td>27.000000</td>\n",
       "      <td>98.712982</td>\n",
       "      <td>84.974258</td>\n",
       "      <td>13.90814</td>\n",
       "      <td>0.900000</td>\n",
       "    </tr>\n",
       "    <tr>\n",
       "      <th>64</th>\n",
       "      <td>Albania</td>\n",
       "      <td>Europe &amp; Central Asia</td>\n",
       "      <td>Upper middle income</td>\n",
       "      <td>1963</td>\n",
       "      <td>639.484736</td>\n",
       "      <td>27.000000</td>\n",
       "      <td>98.712982</td>\n",
       "      <td>84.974258</td>\n",
       "      <td>13.90814</td>\n",
       "      <td>0.900000</td>\n",
       "    </tr>\n",
       "    <tr>\n",
       "      <th>65</th>\n",
       "      <td>Albania</td>\n",
       "      <td>Europe &amp; Central Asia</td>\n",
       "      <td>Upper middle income</td>\n",
       "      <td>1964</td>\n",
       "      <td>639.484736</td>\n",
       "      <td>27.000000</td>\n",
       "      <td>98.712982</td>\n",
       "      <td>84.974258</td>\n",
       "      <td>13.90814</td>\n",
       "      <td>0.900000</td>\n",
       "    </tr>\n",
       "    <tr>\n",
       "      <th>...</th>\n",
       "      <td>...</td>\n",
       "      <td>...</td>\n",
       "      <td>...</td>\n",
       "      <td>...</td>\n",
       "      <td>...</td>\n",
       "      <td>...</td>\n",
       "      <td>...</td>\n",
       "      <td>...</td>\n",
       "      <td>...</td>\n",
       "      <td>...</td>\n",
       "    </tr>\n",
       "    <tr>\n",
       "      <th>16038</th>\n",
       "      <td>Zimbabwe</td>\n",
       "      <td>Sub-Saharan Africa</td>\n",
       "      <td>Lower middle income</td>\n",
       "      <td>2016</td>\n",
       "      <td>1464.583529</td>\n",
       "      <td>44.116667</td>\n",
       "      <td>88.693420</td>\n",
       "      <td>52.405670</td>\n",
       "      <td>10.00655</td>\n",
       "      <td>31.816667</td>\n",
       "    </tr>\n",
       "    <tr>\n",
       "      <th>16039</th>\n",
       "      <td>Zimbabwe</td>\n",
       "      <td>Sub-Saharan Africa</td>\n",
       "      <td>Lower middle income</td>\n",
       "      <td>2017</td>\n",
       "      <td>1548.170056</td>\n",
       "      <td>44.300000</td>\n",
       "      <td>88.693420</td>\n",
       "      <td>52.405670</td>\n",
       "      <td>10.00655</td>\n",
       "      <td>33.900000</td>\n",
       "    </tr>\n",
       "    <tr>\n",
       "      <th>16040</th>\n",
       "      <td>Zimbabwe</td>\n",
       "      <td>Sub-Saharan Africa</td>\n",
       "      <td>Lower middle income</td>\n",
       "      <td>2018</td>\n",
       "      <td>1683.740577</td>\n",
       "      <td>44.300000</td>\n",
       "      <td>88.693420</td>\n",
       "      <td>52.405670</td>\n",
       "      <td>10.00655</td>\n",
       "      <td>33.900000</td>\n",
       "    </tr>\n",
       "    <tr>\n",
       "      <th>16041</th>\n",
       "      <td>Zimbabwe</td>\n",
       "      <td>Sub-Saharan Africa</td>\n",
       "      <td>Lower middle income</td>\n",
       "      <td>2019</td>\n",
       "      <td>1463.985910</td>\n",
       "      <td>44.300000</td>\n",
       "      <td>88.693420</td>\n",
       "      <td>52.405670</td>\n",
       "      <td>10.00655</td>\n",
       "      <td>33.900000</td>\n",
       "    </tr>\n",
       "    <tr>\n",
       "      <th>16042</th>\n",
       "      <td>Zimbabwe</td>\n",
       "      <td>Sub-Saharan Africa</td>\n",
       "      <td>Lower middle income</td>\n",
       "      <td>2020</td>\n",
       "      <td>1463.985910</td>\n",
       "      <td>44.300000</td>\n",
       "      <td>88.693420</td>\n",
       "      <td>52.405670</td>\n",
       "      <td>10.00655</td>\n",
       "      <td>33.900000</td>\n",
       "    </tr>\n",
       "  </tbody>\n",
       "</table>\n",
       "<p>7452 rows × 10 columns</p>\n",
       "</div>"
      ],
      "text/plain": [
       "      Country.Name                 Region          IncomeGroup  Year  \\\n",
       "Index                                                                  \n",
       "61         Albania  Europe & Central Asia  Upper middle income  1960   \n",
       "62         Albania  Europe & Central Asia  Upper middle income  1961   \n",
       "63         Albania  Europe & Central Asia  Upper middle income  1962   \n",
       "64         Albania  Europe & Central Asia  Upper middle income  1963   \n",
       "65         Albania  Europe & Central Asia  Upper middle income  1964   \n",
       "...            ...                    ...                  ...   ...   \n",
       "16038     Zimbabwe     Sub-Saharan Africa  Lower middle income  2016   \n",
       "16039     Zimbabwe     Sub-Saharan Africa  Lower middle income  2017   \n",
       "16040     Zimbabwe     Sub-Saharan Africa  Lower middle income  2018   \n",
       "16041     Zimbabwe     Sub-Saharan Africa  Lower middle income  2019   \n",
       "16042     Zimbabwe     Sub-Saharan Africa  Lower middle income  2020   \n",
       "\n",
       "               GDP  Gini Index  Literacy Rate  Secondary School Enrollment  \\\n",
       "Index                                                                        \n",
       "61      639.484736   27.000000      98.712982                    84.974258   \n",
       "62      639.484736   27.000000      98.712982                    84.974258   \n",
       "63      639.484736   27.000000      98.712982                    84.974258   \n",
       "64      639.484736   27.000000      98.712982                    84.974258   \n",
       "65      639.484736   27.000000      98.712982                    84.974258   \n",
       "...            ...         ...            ...                          ...   \n",
       "16038  1464.583529   44.116667      88.693420                    52.405670   \n",
       "16039  1548.170056   44.300000      88.693420                    52.405670   \n",
       "16040  1683.740577   44.300000      88.693420                    52.405670   \n",
       "16041  1463.985910   44.300000      88.693420                    52.405670   \n",
       "16042  1463.985910   44.300000      88.693420                    52.405670   \n",
       "\n",
       "       Tertinary School Enrollment  Poverty Rate  \n",
       "Index                                             \n",
       "61                        13.90814      0.900000  \n",
       "62                        13.90814      0.900000  \n",
       "63                        13.90814      0.900000  \n",
       "64                        13.90814      0.900000  \n",
       "65                        13.90814      0.900000  \n",
       "...                            ...           ...  \n",
       "16038                     10.00655     31.816667  \n",
       "16039                     10.00655     33.900000  \n",
       "16040                     10.00655     33.900000  \n",
       "16041                     10.00655     33.900000  \n",
       "16042                     10.00655     33.900000  \n",
       "\n",
       "[7452 rows x 10 columns]"
      ]
     },
     "execution_count": 32,
     "metadata": {},
     "output_type": "execute_result"
    }
   ],
   "source": [
    "# Only use the results for actual data\n",
    "final_df.dropna(subset=['Poverty Rate','GDP','Gini Index', 'Literacy Rate', 'Secondary School Enrollment'\n",
    "                        ,'Tertinary School Enrollment'], inplace=True)\n",
    "final_df.index.name = 'Index'\n",
    "final_df"
   ]
  },
  {
   "cell_type": "code",
   "execution_count": 33,
   "metadata": {},
   "outputs": [],
   "source": [
    "# Create label for our result and seperate into train and test\n",
    "# for maching learning if we want to create more models\n",
    "y = final_df['Poverty Rate']\n",
    "final_df.drop(['Poverty Rate'], axis=1, inplace = True)\n",
    "X = final_df.select_dtypes(exclude=['object'])\n",
    "for i in y.index:\n",
    "    if y.at[i] >= 75:\n",
    "        y.at[i] = 3\n",
    "    elif y.at[i] >= 50 and y.at[i] < 75 :\n",
    "        y.at[i] = 2\n",
    "    elif y.at[i] >= 25 and y.at[i] < 50 :\n",
    "        y.at[i] = 1\n",
    "    else:\n",
    "        y.at[i] = 0\n",
    "\n",
    "X_train, X_test, y_train, y_test = train_test_split(X,y, train_size = .75, test_size = 0.25 , random_state = 0)"
   ]
  },
  {
   "cell_type": "code",
   "execution_count": 34,
   "metadata": {},
   "outputs": [
    {
     "data": {
      "text/html": [
       "<div>\n",
       "<style scoped>\n",
       "    .dataframe tbody tr th:only-of-type {\n",
       "        vertical-align: middle;\n",
       "    }\n",
       "\n",
       "    .dataframe tbody tr th {\n",
       "        vertical-align: top;\n",
       "    }\n",
       "\n",
       "    .dataframe thead th {\n",
       "        text-align: right;\n",
       "    }\n",
       "</style>\n",
       "<table border=\"1\" class=\"dataframe\">\n",
       "  <thead>\n",
       "    <tr style=\"text-align: right;\">\n",
       "      <th></th>\n",
       "      <th>GDP</th>\n",
       "      <th>Gini Index</th>\n",
       "      <th>Literacy Rate</th>\n",
       "      <th>Secondary School Enrollment</th>\n",
       "      <th>Tertinary School Enrollment</th>\n",
       "    </tr>\n",
       "  </thead>\n",
       "  <tbody>\n",
       "    <tr>\n",
       "      <th>0</th>\n",
       "      <td>0.014776</td>\n",
       "      <td>0.078385</td>\n",
       "      <td>0.985939</td>\n",
       "      <td>0.598228</td>\n",
       "      <td>0.09736</td>\n",
       "    </tr>\n",
       "    <tr>\n",
       "      <th>1</th>\n",
       "      <td>0.014776</td>\n",
       "      <td>0.078385</td>\n",
       "      <td>0.985939</td>\n",
       "      <td>0.598228</td>\n",
       "      <td>0.09736</td>\n",
       "    </tr>\n",
       "    <tr>\n",
       "      <th>2</th>\n",
       "      <td>0.014776</td>\n",
       "      <td>0.078385</td>\n",
       "      <td>0.985939</td>\n",
       "      <td>0.598228</td>\n",
       "      <td>0.09736</td>\n",
       "    </tr>\n",
       "    <tr>\n",
       "      <th>3</th>\n",
       "      <td>0.014776</td>\n",
       "      <td>0.078385</td>\n",
       "      <td>0.985939</td>\n",
       "      <td>0.598228</td>\n",
       "      <td>0.09736</td>\n",
       "    </tr>\n",
       "    <tr>\n",
       "      <th>4</th>\n",
       "      <td>0.014776</td>\n",
       "      <td>0.078385</td>\n",
       "      <td>0.985939</td>\n",
       "      <td>0.598228</td>\n",
       "      <td>0.09736</td>\n",
       "    </tr>\n",
       "  </tbody>\n",
       "</table>\n",
       "</div>"
      ],
      "text/plain": [
       "        GDP  Gini Index  Literacy Rate  Secondary School Enrollment  \\\n",
       "0  0.014776    0.078385       0.985939                     0.598228   \n",
       "1  0.014776    0.078385       0.985939                     0.598228   \n",
       "2  0.014776    0.078385       0.985939                     0.598228   \n",
       "3  0.014776    0.078385       0.985939                     0.598228   \n",
       "4  0.014776    0.078385       0.985939                     0.598228   \n",
       "\n",
       "   Tertinary School Enrollment  \n",
       "0                      0.09736  \n",
       "1                      0.09736  \n",
       "2                      0.09736  \n",
       "3                      0.09736  \n",
       "4                      0.09736  "
      ]
     },
     "execution_count": 34,
     "metadata": {},
     "output_type": "execute_result"
    }
   ],
   "source": [
    "from sklearn.preprocessing import MinMaxScaler\n",
    "# Scale each feature\n",
    "ms = MinMaxScaler()\n",
    "cols = X.columns\n",
    "X_cluster = ms.fit_transform(X)\n",
    "X_cluster = pd.DataFrame(X_cluster, columns=cols)\n",
    "X_cluster.head()"
   ]
  },
  {
   "cell_type": "code",
   "execution_count": 35,
   "metadata": {},
   "outputs": [
    {
     "data": {
      "image/png": "[encoded data removed]",
      "text/plain": [
       "<Figure size 432x288 with 1 Axes>"
      ]
     },
     "metadata": {
      "needs_background": "light"
     },
     "output_type": "display_data"
    }
   ],
   "source": [
    "# Using the elbow method to determine how many clusters\n",
    "cs = []\n",
    "for i in range(1,11):\n",
    "    kmeans = KMeans(n_clusters = i, init = 'k-means++', max_iter = 300, n_init = 10, random_state = 0)\n",
    "    kmeans.fit(X_cluster)\n",
    "    cs.append(kmeans.inertia_)\n",
    "plt.plot(range(1, 11), cs)\n",
    "plt.title('The Elbow Method')\n",
    "plt.xlabel('Number of clusters')\n",
    "plt.ylabel('CS')\n",
    "plt.show()\n",
    "    "
   ]
  },
  {
   "cell_type": "code",
   "execution_count": 36,
   "metadata": {},
   "outputs": [
    {
     "name": "stdout",
     "output_type": "stream",
     "text": [
      "Result: 4376 out of 7452 samples were correctly labeled.\n",
      "Accuracy score: 0.59\n"
     ]
    }
   ],
   "source": [
    "# Actual Clustering\n",
    "kmeans = KMeans(n_clusters=2,random_state=0)\n",
    "kmeans.fit(X_cluster)\n",
    "labels = kmeans.labels_\n",
    "\n",
    "# check how many of the samples were correctly labeled\n",
    "correct_labels = sum(y == labels)\n",
    "print(\"Result: %d out of %d samples were correctly labeled.\" % (correct_labels, y.size))\n",
    "print('Accuracy score: {0:0.2f}'. format(correct_labels/float(y.size)))\n",
    "\n",
    "y_kmeans = kmeans.fit_predict(X_cluster)"
   ]
  },
  {
   "cell_type": "code",
   "execution_count": 37,
   "metadata": {},
   "outputs": [
    {
     "data": {
      "image/png": "[encoded data removed]",
      "text/plain": [
       "<Figure size 432x288 with 1 Axes>"
      ]
     },
     "metadata": {
      "needs_background": "light"
     },
     "output_type": "display_data"
    }
   ],
   "source": [
    "#Elbow method GDP\n",
    "cs = []\n",
    "X_GDP = X_cluster.loc[:,'GDP'].values\n",
    "X_GDP = np.reshape(X_GDP, (-1,1))\n",
    "for i in range(1,11):\n",
    "    kmeans = KMeans(n_clusters = i, init = 'k-means++', max_iter = 300, n_init = 10, random_state = 0)\n",
    "    kmeans.fit(X_GDP)\n",
    "    cs.append(kmeans.inertia_)\n",
    "plt.plot(range(1, 11), cs)\n",
    "plt.title('The Elbow Method (GDP)')\n",
    "plt.xlabel('Number of clusters')\n",
    "plt.ylabel('CS')\n",
    "plt.show()"
   ]
  },
  {
   "cell_type": "code",
   "execution_count": 38,
   "metadata": {},
   "outputs": [
    {
     "name": "stdout",
     "output_type": "stream",
     "text": [
      "Result: 4085 out of 7452 samples were correctly labeled.\n",
      "Accuracy score: 0.55\n"
     ]
    }
   ],
   "source": [
    "# Actual Clustering GDP\n",
    "kmeans = KMeans(n_clusters=2,random_state=0)\n",
    "kmeans.fit(X_GDP)\n",
    "labels = kmeans.labels_\n",
    "\n",
    "# check how many of the samples were correctly labeled\n",
    "correct_labels = sum(y == labels)\n",
    "print(\"Result: %d out of %d samples were correctly labeled.\" % (correct_labels, y.size))\n",
    "print('Accuracy score: {0:0.2f}'. format(correct_labels/float(y.size)))\n",
    "\n",
    "y_kmeans_GDP = kmeans.fit_predict(X_GDP)"
   ]
  },
  {
   "cell_type": "code",
   "execution_count": 39,
   "metadata": {},
   "outputs": [
    {
     "data": {
      "image/png": "[encoded data removed]",
      "text/plain": [
       "<Figure size 432x288 with 1 Axes>"
      ]
     },
     "metadata": {
      "needs_background": "light"
     },
     "output_type": "display_data"
    }
   ],
   "source": [
    "#Elbow method Gini\n",
    "cs = []\n",
    "X_Gini = X_cluster.loc[:,'Gini Index'].values\n",
    "X_Gini = np.reshape(X_Gini, (-1,1))\n",
    "for i in range(1,11):\n",
    "    kmeans = KMeans(n_clusters = i, init = 'k-means++', max_iter = 300, n_init = 10, random_state = 0)\n",
    "    kmeans.fit(X_Gini)\n",
    "    cs.append(kmeans.inertia_)\n",
    "plt.plot(range(1, 11), cs)\n",
    "plt.title('The Elbow Method')\n",
    "plt.xlabel('Number of clusters (GINI)')\n",
    "plt.ylabel('CS')\n",
    "plt.show()"
   ]
  },
  {
   "cell_type": "code",
   "execution_count": 40,
   "metadata": {},
   "outputs": [
    {
     "name": "stdout",
     "output_type": "stream",
     "text": [
      "Result: 1751 out of 7452 samples were correctly labeled.\n",
      "Accuracy score: 0.23\n"
     ]
    }
   ],
   "source": [
    "# Actual Clustering Gini\n",
    "kmeans = KMeans(n_clusters=2,random_state=0)\n",
    "kmeans.fit(X_Gini)\n",
    "labels = kmeans.labels_\n",
    "\n",
    "# check how many of the samples were correctly labeled\n",
    "correct_labels = sum(y == labels)\n",
    "print(\"Result: %d out of %d samples were correctly labeled.\" % (correct_labels, y.size))\n",
    "print('Accuracy score: {0:0.2f}'. format(correct_labels/float(y.size)))\n",
    "\n",
    "y_kmeans_GINI = kmeans.fit_predict(X_Gini)"
   ]
  },
  {
   "cell_type": "code",
   "execution_count": 41,
   "metadata": {},
   "outputs": [
    {
     "data": {
      "image/png": "[encoded data removed]",
      "text/plain": [
       "<Figure size 432x288 with 1 Axes>"
      ]
     },
     "metadata": {
      "needs_background": "light"
     },
     "output_type": "display_data"
    }
   ],
   "source": [
    "#Elbow method Literacy Rate\n",
    "cs = []\n",
    "X_Lit = X_cluster.loc[:,'Literacy Rate'].values\n",
    "X_Lit = np.reshape(X_Lit, (-1,1))\n",
    "for i in range(1,11):\n",
    "    kmeans = KMeans(n_clusters = i, init = 'k-means++', max_iter = 300, n_init = 10, random_state = 0)\n",
    "    kmeans.fit(X_Lit)\n",
    "    cs.append(kmeans.inertia_)\n",
    "plt.plot(range(1, 11), cs)\n",
    "plt.title('The Elbow Method (Lit Rate)')\n",
    "plt.xlabel('Number of clusters')\n",
    "plt.ylabel('CS')\n",
    "plt.show()"
   ]
  },
  {
   "cell_type": "code",
   "execution_count": 42,
   "metadata": {},
   "outputs": [
    {
     "name": "stdout",
     "output_type": "stream",
     "text": [
      "Result: 4558 out of 7452 samples were correctly labeled.\n",
      "Accuracy score: 0.61\n"
     ]
    }
   ],
   "source": [
    "# Actual Clustering Lit Rate\n",
    "kmeans = KMeans(n_clusters=2,random_state=0)\n",
    "kmeans.fit(X_Lit)\n",
    "labels = kmeans.labels_\n",
    "\n",
    "# check how many of the samples were correctly labeled\n",
    "correct_labels = sum(y == labels)\n",
    "print(\"Result: %d out of %d samples were correctly labeled.\" % (correct_labels, y.size))\n",
    "print('Accuracy score: {0:0.2f}'. format(correct_labels/float(y.size)))\n",
    "\n",
    "y_kmeans_Lit = kmeans.fit_predict(X_Lit)"
   ]
  },
  {
   "cell_type": "code",
   "execution_count": 43,
   "metadata": {},
   "outputs": [
    {
     "data": {
      "image/png": "[encoded data removed]",
      "text/plain": [
       "<Figure size 432x288 with 1 Axes>"
      ]
     },
     "metadata": {
      "needs_background": "light"
     },
     "output_type": "display_data"
    }
   ],
   "source": [
    "#Elbow method Secondary School\n",
    "cs = []\n",
    "X_second = X_cluster.loc[:,'Secondary School Enrollment'].values\n",
    "X_second = np.reshape(X_second, (-1,1))\n",
    "for i in range(1,11):\n",
    "    kmeans = KMeans(n_clusters = i, init = 'k-means++', max_iter = 300, n_init = 10, random_state = 0)\n",
    "    kmeans.fit(X_second)\n",
    "    cs.append(kmeans.inertia_)\n",
    "plt.plot(range(1, 11), cs)\n",
    "plt.title('The Elbow Method (Secondary)')\n",
    "plt.xlabel('Number of clusters')\n",
    "plt.ylabel('CS')\n",
    "plt.show()"
   ]
  },
  {
   "cell_type": "code",
   "execution_count": 44,
   "metadata": {},
   "outputs": [
    {
     "name": "stdout",
     "output_type": "stream",
     "text": [
      "Result: 1646 out of 7452 samples were correctly labeled.\n",
      "Accuracy score: 0.22\n"
     ]
    }
   ],
   "source": [
    "# Actual Clustering Secondary School\n",
    "kmeans = KMeans(n_clusters=2,random_state=0)\n",
    "kmeans.fit(X_second)\n",
    "labels = kmeans.labels_\n",
    "\n",
    "# check how many of the samples were correctly labeled\n",
    "correct_labels = sum(y == labels)\n",
    "print(\"Result: %d out of %d samples were correctly labeled.\" % (correct_labels, y.size))\n",
    "print('Accuracy score: {0:0.2f}'. format(correct_labels/float(y.size)))\n",
    "\n",
    "y_kmeans_second = kmeans.fit_predict(X_second)"
   ]
  },
  {
   "cell_type": "code",
   "execution_count": 45,
   "metadata": {},
   "outputs": [
    {
     "data": {
      "image/png": "[encoded data removed]",
      "text/plain": [
       "<Figure size 432x288 with 1 Axes>"
      ]
     },
     "metadata": {
      "needs_background": "light"
     },
     "output_type": "display_data"
    }
   ],
   "source": [
    "#Elbow method Tertinary School\n",
    "cs = []\n",
    "X_third = X_cluster.loc[:,'Tertinary School Enrollment'].values\n",
    "X_third = np.reshape(X_third, (-1,1))\n",
    "for i in range(1,11):\n",
    "    kmeans = KMeans(n_clusters = i, init = 'k-means++', max_iter = 300, n_init = 10, random_state = 0)\n",
    "    kmeans.fit(X_third)\n",
    "    cs.append(kmeans.inertia_)\n",
    "plt.plot(range(1, 11), cs)\n",
    "plt.title('The Elbow Method (Tertinary)')\n",
    "plt.xlabel('Number of clusters')\n",
    "plt.ylabel('CS')\n",
    "plt.show()"
   ]
  },
  {
   "cell_type": "code",
   "execution_count": 46,
   "metadata": {},
   "outputs": [
    {
     "name": "stdout",
     "output_type": "stream",
     "text": [
      "Result: 3304 out of 7452 samples were correctly labeled.\n",
      "Accuracy score: 0.44\n"
     ]
    }
   ],
   "source": [
    "# Actual Clustering Tertinary School\n",
    "kmeans = KMeans(n_clusters=2,random_state=0)\n",
    "kmeans.fit(X_third)\n",
    "labels = kmeans.labels_\n",
    "\n",
    "# check how many of the samples were correctly labeled\n",
    "correct_labels = sum(y == labels)\n",
    "print(\"Result: %d out of %d samples were correctly labeled.\" % (correct_labels, y.size))\n",
    "print('Accuracy score: {0:0.2f}'. format(correct_labels/float(y.size)))\n",
    "\n",
    "y_kmeans_third = kmeans.fit_predict(X_third)"
   ]
  },
  {
   "cell_type": "code",
   "execution_count": null,
   "metadata": {},
   "outputs": [],
   "source": []
  }
 ],
 "metadata": {
  "kernelspec": {
   "display_name": "Python 3",
   "language": "python",
   "name": "python3"
  },
  "language_info": {
   "codemirror_mode": {
    "name": "ipython",
    "version": 3
   },
   "file_extension": ".py",
   "mimetype": "text/x-python",
   "name": "python",
   "nbconvert_exporter": "python",
   "pygments_lexer": "ipython3",
   "version": "3.8.5"
  }
 },
 "nbformat": 4,
 "nbformat_minor": 4
}
